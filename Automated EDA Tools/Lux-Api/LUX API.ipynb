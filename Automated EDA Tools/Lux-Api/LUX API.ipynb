{
 "cells": [
  {
   "cell_type": "markdown",
   "metadata": {},
   "source": [
    "# LUX-API"
   ]
  },
  {
   "cell_type": "markdown",
   "metadata": {},
   "source": [
    "Lux is a Python library that makes data science easier by automating aspects of the data exploration process. Lux facilitate faster experimentation with data, even when the user does not have a clear idea of what they are looking for. Visualizations are displayed via an interactive widget that allow users to quickly browse through large collections of visualizations directly within their Jupyter notebooks."
   ]
  },
  {
   "cell_type": "code",
   "execution_count": null,
   "metadata": {},
   "outputs": [],
   "source": []
  },
  {
   "cell_type": "markdown",
   "metadata": {},
   "source": [
    "## Setup of Lux-apiin Jupyter Notebook or VSCode"
   ]
  },
  {
   "cell_type": "markdown",
   "metadata": {},
   "source": [
    "\n",
    "To use Lux in Jupyter notebook or VSCode, activate the notebook extension from anaconda prompt:\n",
    "\n",
    "#### jupyter nbextension install --py luxwidget\n",
    "\n",
    "#### jupyter nbextension enable --py luxwidget\n",
    "\n",
    "\n",
    "If the installation happens correctly, you should see two - Validating: OK after executing the two lines above."
   ]
  },
  {
   "cell_type": "code",
   "execution_count": null,
   "metadata": {},
   "outputs": [],
   "source": []
  },
  {
   "cell_type": "markdown",
   "metadata": {},
   "source": [
    "## Install the package"
   ]
  },
  {
   "cell_type": "code",
   "execution_count": 8,
   "metadata": {},
   "outputs": [
    {
     "name": "stdout",
     "output_type": "stream",
     "text": [
      "Collecting lux-api\n",
      "  Downloading lux-api-0.2.3.tar.gz (94 kB)\n",
      "Requirement already satisfied: scipy>=1.3.3 in c:\\users\\piyush.pathak\\anaconda3\\lib\\site-packages (from lux-api) (1.5.0)\n",
      "Collecting altair>=4.0.0\n",
      "  Downloading altair-4.1.0-py3-none-any.whl (727 kB)\n",
      "Requirement already satisfied: numpy>=1.16.5 in c:\\users\\piyush.pathak\\anaconda3\\lib\\site-packages (from lux-api) (1.20.1)\n",
      "Requirement already satisfied: pandas>=1.1.0 in c:\\users\\piyush.pathak\\anaconda3\\lib\\site-packages (from lux-api) (1.1.5)\n",
      "Requirement already satisfied: scikit-learn>=0.22 in c:\\users\\piyush.pathak\\anaconda3\\lib\\site-packages (from lux-api) (0.23.1)\n",
      "Requirement already satisfied: matplotlib>=3.0.0 in c:\\users\\piyush.pathak\\anaconda3\\lib\\site-packages (from lux-api) (3.2.2)\n",
      "Collecting lux-widget>=0.1.4\n",
      "  Downloading lux-widget-0.1.4.tar.gz (2.1 MB)\n",
      "Requirement already satisfied: jinja2 in c:\\users\\piyush.pathak\\anaconda3\\lib\\site-packages (from altair>=4.0.0->lux-api) (2.11.2)\n",
      "Requirement already satisfied: jsonschema in c:\\users\\piyush.pathak\\anaconda3\\lib\\site-packages (from altair>=4.0.0->lux-api) (3.2.0)\n",
      "Requirement already satisfied: entrypoints in c:\\users\\piyush.pathak\\anaconda3\\lib\\site-packages (from altair>=4.0.0->lux-api) (0.3)\n",
      "Requirement already satisfied: toolz in c:\\users\\piyush.pathak\\anaconda3\\lib\\site-packages (from altair>=4.0.0->lux-api) (0.10.0)\n",
      "Requirement already satisfied: pytz>=2017.2 in c:\\users\\piyush.pathak\\anaconda3\\lib\\site-packages (from pandas>=1.1.0->lux-api) (2020.1)\n",
      "Requirement already satisfied: python-dateutil>=2.7.3 in c:\\users\\piyush.pathak\\anaconda3\\lib\\site-packages (from pandas>=1.1.0->lux-api) (2.8.1)\n",
      "Requirement already satisfied: joblib>=0.11 in c:\\users\\piyush.pathak\\anaconda3\\lib\\site-packages (from scikit-learn>=0.22->lux-api) (0.16.0)\n",
      "Requirement already satisfied: threadpoolctl>=2.0.0 in c:\\users\\piyush.pathak\\anaconda3\\lib\\site-packages (from scikit-learn>=0.22->lux-api) (2.1.0)\n",
      "Requirement already satisfied: kiwisolver>=1.0.1 in c:\\users\\piyush.pathak\\anaconda3\\lib\\site-packages (from matplotlib>=3.0.0->lux-api) (1.2.0)\n",
      "Requirement already satisfied: cycler>=0.10 in c:\\users\\piyush.pathak\\anaconda3\\lib\\site-packages (from matplotlib>=3.0.0->lux-api) (0.10.0)\n",
      "Requirement already satisfied: pyparsing!=2.0.4,!=2.1.2,!=2.1.6,>=2.0.1 in c:\\users\\piyush.pathak\\anaconda3\\lib\\site-packages (from matplotlib>=3.0.0->lux-api) (2.4.7)\n",
      "Requirement already satisfied: jupyter in c:\\users\\piyush.pathak\\anaconda3\\lib\\site-packages (from lux-widget>=0.1.4->lux-api) (1.0.0)\n",
      "Requirement already satisfied: notebook>=4.0.0 in c:\\users\\piyush.pathak\\anaconda3\\lib\\site-packages (from lux-widget>=0.1.4->lux-api) (6.0.3)\n",
      "Requirement already satisfied: ipywidgets>=7.5.0 in c:\\users\\piyush.pathak\\anaconda3\\lib\\site-packages (from lux-widget>=0.1.4->lux-api) (7.5.1)\n",
      "Requirement already satisfied: MarkupSafe>=0.23 in c:\\users\\piyush.pathak\\anaconda3\\lib\\site-packages (from jinja2->altair>=4.0.0->lux-api) (1.1.1)\n",
      "Requirement already satisfied: attrs>=17.4.0 in c:\\users\\piyush.pathak\\anaconda3\\lib\\site-packages (from jsonschema->altair>=4.0.0->lux-api) (19.3.0)\n",
      "Requirement already satisfied: pyrsistent>=0.14.0 in c:\\users\\piyush.pathak\\anaconda3\\lib\\site-packages (from jsonschema->altair>=4.0.0->lux-api) (0.16.0)\n",
      "Requirement already satisfied: setuptools in c:\\users\\piyush.pathak\\anaconda3\\lib\\site-packages (from jsonschema->altair>=4.0.0->lux-api) (49.2.0.post20200714)\n",
      "Requirement already satisfied: six>=1.11.0 in c:\\users\\piyush.pathak\\anaconda3\\lib\\site-packages (from jsonschema->altair>=4.0.0->lux-api) (1.15.0)\n",
      "Requirement already satisfied: ipykernel in c:\\users\\piyush.pathak\\anaconda3\\lib\\site-packages (from jupyter->lux-widget>=0.1.4->lux-api) (5.3.2)\n",
      "Requirement already satisfied: qtconsole in c:\\users\\piyush.pathak\\anaconda3\\lib\\site-packages (from jupyter->lux-widget>=0.1.4->lux-api) (4.7.5)\n",
      "Requirement already satisfied: jupyter-console in c:\\users\\piyush.pathak\\anaconda3\\lib\\site-packages (from jupyter->lux-widget>=0.1.4->lux-api) (6.1.0)\n",
      "Requirement already satisfied: nbconvert in c:\\users\\piyush.pathak\\anaconda3\\lib\\site-packages (from jupyter->lux-widget>=0.1.4->lux-api) (5.6.1)\n",
      "Requirement already satisfied: tornado>=5.0 in c:\\users\\piyush.pathak\\anaconda3\\lib\\site-packages (from notebook>=4.0.0->lux-widget>=0.1.4->lux-api) (6.0.4)\n",
      "Requirement already satisfied: prometheus-client in c:\\users\\piyush.pathak\\anaconda3\\lib\\site-packages (from notebook>=4.0.0->lux-widget>=0.1.4->lux-api) (0.8.0)\n",
      "Requirement already satisfied: jupyter-client>=5.3.4 in c:\\users\\piyush.pathak\\anaconda3\\lib\\site-packages (from notebook>=4.0.0->lux-widget>=0.1.4->lux-api) (6.1.6)\n",
      "Requirement already satisfied: Send2Trash in c:\\users\\piyush.pathak\\anaconda3\\lib\\site-packages (from notebook>=4.0.0->lux-widget>=0.1.4->lux-api) (1.5.0)\n",
      "Requirement already satisfied: ipython-genutils in c:\\users\\piyush.pathak\\anaconda3\\lib\\site-packages (from notebook>=4.0.0->lux-widget>=0.1.4->lux-api) (0.2.0)\n",
      "Requirement already satisfied: traitlets>=4.2.1 in c:\\users\\piyush.pathak\\anaconda3\\lib\\site-packages (from notebook>=4.0.0->lux-widget>=0.1.4->lux-api) (4.3.3)\n",
      "Requirement already satisfied: pyzmq>=17 in c:\\users\\piyush.pathak\\anaconda3\\lib\\site-packages (from notebook>=4.0.0->lux-widget>=0.1.4->lux-api) (19.0.1)\n",
      "Requirement already satisfied: jupyter-core>=4.6.1 in c:\\users\\piyush.pathak\\anaconda3\\lib\\site-packages (from notebook>=4.0.0->lux-widget>=0.1.4->lux-api) (4.6.3)\n",
      "Requirement already satisfied: nbformat in c:\\users\\piyush.pathak\\anaconda3\\lib\\site-packages (from notebook>=4.0.0->lux-widget>=0.1.4->lux-api) (5.0.7)\n",
      "Requirement already satisfied: terminado>=0.8.1 in c:\\users\\piyush.pathak\\anaconda3\\lib\\site-packages (from notebook>=4.0.0->lux-widget>=0.1.4->lux-api) (0.8.3)\n",
      "Requirement already satisfied: ipython>=4.0.0; python_version >= \"3.3\" in c:\\users\\piyush.pathak\\anaconda3\\lib\\site-packages (from ipywidgets>=7.5.0->lux-widget>=0.1.4->lux-api) (7.16.1)\n",
      "Requirement already satisfied: widgetsnbextension~=3.5.0 in c:\\users\\piyush.pathak\\anaconda3\\lib\\site-packages (from ipywidgets>=7.5.0->lux-widget>=0.1.4->lux-api) (3.5.1)\n",
      "Requirement already satisfied: pygments in c:\\users\\piyush.pathak\\anaconda3\\lib\\site-packages (from qtconsole->jupyter->lux-widget>=0.1.4->lux-api) (2.6.1)\n",
      "Requirement already satisfied: qtpy in c:\\users\\piyush.pathak\\anaconda3\\lib\\site-packages (from qtconsole->jupyter->lux-widget>=0.1.4->lux-api) (1.9.0)\n",
      "Requirement already satisfied: prompt-toolkit!=3.0.0,!=3.0.1,<3.1.0,>=2.0.0 in c:\\users\\piyush.pathak\\anaconda3\\lib\\site-packages (from jupyter-console->jupyter->lux-widget>=0.1.4->lux-api) (3.0.5)\n",
      "Requirement already satisfied: mistune<2,>=0.8.1 in c:\\users\\piyush.pathak\\anaconda3\\lib\\site-packages (from nbconvert->jupyter->lux-widget>=0.1.4->lux-api) (0.8.4)\n",
      "Requirement already satisfied: pandocfilters>=1.4.1 in c:\\users\\piyush.pathak\\anaconda3\\lib\\site-packages (from nbconvert->jupyter->lux-widget>=0.1.4->lux-api) (1.4.2)\n",
      "Requirement already satisfied: bleach in c:\\users\\piyush.pathak\\anaconda3\\lib\\site-packages (from nbconvert->jupyter->lux-widget>=0.1.4->lux-api) (3.1.5)\n",
      "Requirement already satisfied: defusedxml in c:\\users\\piyush.pathak\\anaconda3\\lib\\site-packages (from nbconvert->jupyter->lux-widget>=0.1.4->lux-api) (0.6.0)\n",
      "Requirement already satisfied: testpath in c:\\users\\piyush.pathak\\anaconda3\\lib\\site-packages (from nbconvert->jupyter->lux-widget>=0.1.4->lux-api) (0.4.4)\n",
      "Requirement already satisfied: decorator in c:\\users\\piyush.pathak\\anaconda3\\lib\\site-packages (from traitlets>=4.2.1->notebook>=4.0.0->lux-widget>=0.1.4->lux-api) (4.4.2)\n",
      "Requirement already satisfied: pywin32>=1.0; sys_platform == \"win32\" in c:\\users\\piyush.pathak\\anaconda3\\lib\\site-packages (from jupyter-core>=4.6.1->notebook>=4.0.0->lux-widget>=0.1.4->lux-api) (227)\n",
      "Requirement already satisfied: pickleshare in c:\\users\\piyush.pathak\\anaconda3\\lib\\site-packages (from ipython>=4.0.0; python_version >= \"3.3\"->ipywidgets>=7.5.0->lux-widget>=0.1.4->lux-api) (0.7.5)\n",
      "Requirement already satisfied: colorama; sys_platform == \"win32\" in c:\\users\\piyush.pathak\\anaconda3\\lib\\site-packages (from ipython>=4.0.0; python_version >= \"3.3\"->ipywidgets>=7.5.0->lux-widget>=0.1.4->lux-api) (0.4.3)\n",
      "Requirement already satisfied: backcall in c:\\users\\piyush.pathak\\anaconda3\\lib\\site-packages (from ipython>=4.0.0; python_version >= \"3.3\"->ipywidgets>=7.5.0->lux-widget>=0.1.4->lux-api) (0.2.0)\n",
      "Requirement already satisfied: jedi>=0.10 in c:\\users\\piyush.pathak\\anaconda3\\lib\\site-packages (from ipython>=4.0.0; python_version >= \"3.3\"->ipywidgets>=7.5.0->lux-widget>=0.1.4->lux-api) (0.17.1)\n",
      "Requirement already satisfied: wcwidth in c:\\users\\piyush.pathak\\anaconda3\\lib\\site-packages (from prompt-toolkit!=3.0.0,!=3.0.1,<3.1.0,>=2.0.0->jupyter-console->jupyter->lux-widget>=0.1.4->lux-api) (0.2.5)\n",
      "Requirement already satisfied: packaging in c:\\users\\piyush.pathak\\anaconda3\\lib\\site-packages (from bleach->nbconvert->jupyter->lux-widget>=0.1.4->lux-api) (20.4)\n",
      "Requirement already satisfied: webencodings in c:\\users\\piyush.pathak\\anaconda3\\lib\\site-packages (from bleach->nbconvert->jupyter->lux-widget>=0.1.4->lux-api) (0.5.1)\n",
      "Requirement already satisfied: parso<0.8.0,>=0.7.0 in c:\\users\\piyush.pathak\\anaconda3\\lib\\site-packages (from jedi>=0.10->ipython>=4.0.0; python_version >= \"3.3\"->ipywidgets>=7.5.0->lux-widget>=0.1.4->lux-api) (0.7.0)\n",
      "Building wheels for collected packages: lux-api, lux-widget\n",
      "  Building wheel for lux-api (setup.py): started\n",
      "  Building wheel for lux-api (setup.py): finished with status 'done'\n",
      "  Created wheel for lux-api: filename=lux_api-0.2.3-py3-none-any.whl size=146696 sha256=957967364345ce27c6a332ba13734b6030c89a8cbc75cffd92a9ec87d550cdf3\n",
      "  Stored in directory: c:\\users\\piyush.pathak\\appdata\\local\\pip\\cache\\wheels\\ea\\93\\4b\\686afa536d15cb93b739f0de1940b9d8a3a87341e29bc7d196\n",
      "  Building wheel for lux-widget (setup.py): started\n",
      "  Building wheel for lux-widget (setup.py): finished with status 'done'\n",
      "  Created wheel for lux-widget: filename=lux_widget-0.1.4-py3-none-any.whl size=4294798 sha256=99190ca2ae476fb51be96f51c3b6baf2bfd7835ba97b030e833b2428f0c17770\n",
      "  Stored in directory: c:\\users\\piyush.pathak\\appdata\\local\\pip\\cache\\wheels\\59\\83\\e9\\ea3f58a20aaa967497d192746007f9afc64ef95838f851ade8\n",
      "Successfully built lux-api lux-widget\n",
      "Installing collected packages: altair, lux-widget, lux-api\n",
      "Successfully installed altair-4.1.0 lux-api-0.2.3 lux-widget-0.1.4\n"
     ]
    }
   ],
   "source": [
    "! pip install lux-api"
   ]
  },
  {
   "cell_type": "code",
   "execution_count": null,
   "metadata": {},
   "outputs": [],
   "source": []
  },
  {
   "cell_type": "markdown",
   "metadata": {},
   "source": [
    "## Import the packages"
   ]
  },
  {
   "cell_type": "code",
   "execution_count": 8,
   "metadata": {},
   "outputs": [],
   "source": [
    "import lux\n",
    "import pandas as pd"
   ]
  },
  {
   "cell_type": "code",
   "execution_count": null,
   "metadata": {},
   "outputs": [],
   "source": []
  },
  {
   "cell_type": "markdown",
   "metadata": {},
   "source": [
    "## Load the data and check the Toggle Pandas/Lux"
   ]
  },
  {
   "cell_type": "code",
   "execution_count": 21,
   "metadata": {},
   "outputs": [
    {
     "data": {
      "application/vnd.jupyter.widget-view+json": {
       "model_id": "ad2174970e1a41ad9a1499d1a58f1b30",
       "version_major": 2,
       "version_minor": 0
      },
      "text/plain": [
       "Button(description='Toggle Pandas/Lux', layout=Layout(top='5px', width='140px'), style=ButtonStyle())"
      ]
     },
     "metadata": {},
     "output_type": "display_data"
    },
    {
     "data": {
      "application/vnd.jupyter.widget-view+json": {
       "model_id": "fe49631bf37044e6bb113323953a6ea7",
       "version_major": 2,
       "version_minor": 0
      },
      "text/plain": [
       "Output()"
      ]
     },
     "metadata": {},
     "output_type": "display_data"
    },
    {
     "data": {
      "text/plain": []
     },
     "execution_count": 21,
     "metadata": {},
     "output_type": "execute_result"
    }
   ],
   "source": [
    "df = pd.read_csv(\"https://raw.githubusercontent.com/lux-org/lux-datasets/master/data/college.csv\")\n",
    "df"
   ]
  },
  {
   "cell_type": "markdown",
   "metadata": {},
   "source": [
    "Now you will see all the permutation combinations of variables used for graphs like scatterplot,bar chart and others for your analysis"
   ]
  },
  {
   "cell_type": "code",
   "execution_count": null,
   "metadata": {},
   "outputs": [],
   "source": []
  },
  {
   "cell_type": "markdown",
   "metadata": {},
   "source": [
    "## Recommendations based on user intent:\n",
    "\n",
    "In addition to dataframe visualizations at every step in the exploration, you can specify in Lux the attributes and values you're interested in. Based on this intent, Lux guides users towards potential next-steps in their exploration."
   ]
  },
  {
   "cell_type": "code",
   "execution_count": 22,
   "metadata": {},
   "outputs": [
    {
     "data": {
      "application/vnd.jupyter.widget-view+json": {
       "model_id": "01fb0d91b19740c5b68743356049e71d",
       "version_major": 2,
       "version_minor": 0
      },
      "text/plain": [
       "Button(description='Toggle Pandas/Lux', layout=Layout(top='5px', width='140px'), style=ButtonStyle())"
      ]
     },
     "metadata": {},
     "output_type": "display_data"
    },
    {
     "data": {
      "application/vnd.jupyter.widget-view+json": {
       "model_id": "69f16f113ee249e4b57f4a22f9f7fe60",
       "version_major": 2,
       "version_minor": 0
      },
      "text/plain": [
       "Output()"
      ]
     },
     "metadata": {},
     "output_type": "display_data"
    },
    {
     "data": {
      "text/plain": []
     },
     "execution_count": 22,
     "metadata": {},
     "output_type": "execute_result"
    }
   ],
   "source": [
    "df.intent = [\"SATAverage\",\"ACTMedian\"]\n",
    "df"
   ]
  },
  {
   "cell_type": "markdown",
   "metadata": {},
   "source": [
    "The left-hand side of the widget shows the current visualization, i.e., the current visualization generated based on what the user is interested in. On the right, Lux generates three sets of recommendations, organized as separate tabs on the widget:\n",
    "\n",
    "1. Enhance adds an additional attribute to the current selection, essentially highlighting how additional variables affect the relationship of AverageCost and SATAverage. We see that if we breakdown the relationship by FundingModel, there is a clear separation between public colleges (shown in red) and private colleges (in blue), with public colleges being cheaper to attend and with SAT average of lower than 1400.\n",
    "2. Filter adds a filter to the current selection, while keeping attributes (on the X and Y axes) fixed. These visualizations show how the relationship of AverageCost and SATAverage changes for different subsets of data. For instance, we see that colleges that offer Bachelor's degree as its highest degree show a roughly linear trend between the two variables.\n",
    "3. Generalize removes an attribute to display a more general trend, showing the distributions of AverageCost and SATAverage on its own. From the AverageCost histogram, we see that many colleges with average cost of around $20000 per year, corresponding to the bulge we see in the scatterplot view."
   ]
  },
  {
   "cell_type": "code",
   "execution_count": null,
   "metadata": {},
   "outputs": [],
   "source": []
  },
  {
   "cell_type": "markdown",
   "metadata": {},
   "source": [
    "## Export of visualizations:\n",
    "\n",
    "Now that we have found some interesting visualizations through Lux, we might be interested in digging into these visualizations a bit more or sharing it with others. "
   ]
  },
  {
   "cell_type": "code",
   "execution_count": 4,
   "metadata": {},
   "outputs": [
    {
     "data": {
      "application/vnd.jupyter.widget-view+json": {
       "model_id": "cdf6d14970b24087be5fe8540d358ed8",
       "version_major": 2,
       "version_minor": 0
      },
      "text/plain": [
       "LuxWidget(recommendations=[{'action': 'Vis List', 'description': 'Shows a vis list defined by the intent', 'vs…"
      ]
     },
     "metadata": {},
     "output_type": "display_data"
    },
    {
     "data": {
      "text/plain": [
       "[<Vis  (x: SATAverage, y: ACTMedian, color: FundingModel) mark: scatter, score: 0.33 >]"
      ]
     },
     "execution_count": 4,
     "metadata": {},
     "output_type": "execute_result"
    }
   ],
   "source": [
    "vis = df.exported\n",
    "vis"
   ]
  },
  {
   "cell_type": "code",
   "execution_count": 13,
   "metadata": {},
   "outputs": [
    {
     "data": {
      "application/vnd.jupyter.widget-view+json": {
       "model_id": "caaaf77b756e4e8e81ba88824989e087",
       "version_major": 2,
       "version_minor": 0
      },
      "text/plain": [
       "LuxWidget(current_vis={'config': {'view': {'continuousWidth': 400, 'continuousHeight': 300}, 'axis': {'labelCo…"
      ]
     },
     "metadata": {},
     "output_type": "display_data"
    },
    {
     "data": {
      "text/plain": [
       "<Vis  (x: SATAverage, y: ACTMedian, color: FundingModel) mark: scatter, score: 0.3333333333333333 >"
      ]
     },
     "execution_count": 13,
     "metadata": {},
     "output_type": "execute_result"
    }
   ],
   "source": [
    "vis[0]"
   ]
  },
  {
   "cell_type": "code",
   "execution_count": 15,
   "metadata": {},
   "outputs": [
    {
     "name": "stdout",
     "output_type": "stream",
     "text": [
      "import altair as alt\n",
      "\n",
      "chart = alt.Chart(df).mark_circle().encode(\n",
      "    x=alt.X('SATAverage',scale=alt.Scale(domain=(666, 1534)),type='quantitative', axis=alt.Axis(title='SATAverage')),\n",
      "    y=alt.Y('ACTMedian',scale=alt.Scale(domain=(14, 34)),type='quantitative', axis=alt.Axis(title='ACTMedian'))\n",
      ")\n",
      "chart = chart.configure_mark(tooltip=alt.TooltipContent('encoding')) # Setting tooltip as non-null\n",
      "chart = chart.interactive() # Enable Zooming and Panning\n",
      "chart = chart.encode(color=alt.Color('FundingModel',type='nominal'))\n",
      "\n",
      "chart = chart.configure_title(fontWeight=500,fontSize=13,font='Helvetica Neue')\n",
      "chart = chart.configure_axis(titleFontWeight=500,titleFontSize=11,titleFont='Helvetica Neue',\n",
      "\t\t\tlabelFontWeight=400,labelFontSize=8,labelFont='Helvetica Neue',labelColor='#505050')\n",
      "chart = chart.configure_legend(titleFontWeight=500,titleFontSize=10,titleFont='Helvetica Neue',\n",
      "\t\t\tlabelFontWeight=400,labelFontSize=8,labelFont='Helvetica Neue')\n",
      "chart = chart.properties(width=160,height=150)\n",
      "\n",
      "chart\n"
     ]
    }
   ],
   "source": [
    "##checking codes behind visualization\n",
    "\n",
    "print(vis[0].to_Altair())"
   ]
  },
  {
   "cell_type": "code",
   "execution_count": null,
   "metadata": {},
   "outputs": [],
   "source": []
  },
  {
   "cell_type": "markdown",
   "metadata": {},
   "source": [
    "## on-demand visualizations with the help of automatic encoding:\n",
    "\n",
    "We've seen how Viss are automatically generated as part of the recommendations. Users can also create their own Vis via the same syntax as specifying the intent. Lux is built on the philosophy that users should always be able to visualize anything they want, without having to think about how the visualization should look like. "
   ]
  },
  {
   "cell_type": "code",
   "execution_count": 5,
   "metadata": {},
   "outputs": [
    {
     "data": {
      "application/vnd.jupyter.widget-view+json": {
       "model_id": "5b084a0eaca84487a2f53fb453f6671e",
       "version_major": 2,
       "version_minor": 0
      },
      "text/plain": [
       "LuxWidget(current_vis={'config': {'view': {'continuousWidth': 400, 'continuousHeight': 300}, 'axis': {'labelCo…"
      ]
     },
     "metadata": {},
     "output_type": "display_data"
    },
    {
     "data": {
      "text/plain": [
       "<Vis  (x: SATAverage, y: ACTMedian) mark: scatter, score: 0.0 >"
      ]
     },
     "execution_count": 5,
     "metadata": {},
     "output_type": "execute_result"
    }
   ],
   "source": [
    "from lux.vis.Vis import Vis\n",
    "Vis([\"SATAverage\",\"ACTMedian\"],df)"
   ]
  },
  {
   "cell_type": "code",
   "execution_count": null,
   "metadata": {},
   "outputs": [],
   "source": []
  },
  {
   "cell_type": "markdown",
   "metadata": {},
   "source": [
    "## collections of visualizations:\n",
    "\n",
    "Lux provides a powerful abstraction for working with collections of visualizations based on a partially specified queries. Users can provide a list or a wildcard to iterate over combinations of filter or attribute values and quickly browse through large numbers of visualizations. "
   ]
  },
  {
   "cell_type": "code",
   "execution_count": 6,
   "metadata": {},
   "outputs": [
    {
     "data": {
      "application/vnd.jupyter.widget-view+json": {
       "model_id": "24e4ed4014904a1dbf7ab91346e3024b",
       "version_major": 2,
       "version_minor": 0
      },
      "text/plain": [
       "LuxWidget(recommendations=[{'action': 'Vis List', 'description': 'Shows a vis list defined by the intent', 'vs…"
      ]
     },
     "metadata": {},
     "output_type": "display_data"
    },
    {
     "data": {
      "text/plain": [
       "[<Vis  (x: BIN(ACTMedian), y: COUNT(Record)  -- [SATAverage=823]  ) mark: histogram, score: 0.00 >,\n",
       " <Vis  (x: BIN(ACTMedian), y: COUNT(Record)  -- [SATAverage=1146] ) mark: histogram, score: 0.00 >,\n",
       " <Vis  (x: BIN(ACTMedian), y: COUNT(Record)  -- [SATAverage=1180] ) mark: histogram, score: 0.00 >,\n",
       " <Vis  (x: BIN(ACTMedian), y: COUNT(Record)  -- [SATAverage=830]  ) mark: histogram, score: 0.00 >,\n",
       " <Vis  (x: BIN(ACTMedian), y: COUNT(Record)  -- [SATAverage=1171] ) mark: histogram, score: 0.00 >,\n",
       " <Vis  (x: BIN(ACTMedian), y: COUNT(Record)  -- [SATAverage=970]  ) mark: histogram, score: 0.00 >,\n",
       " <Vis  (x: BIN(ACTMedian), y: COUNT(Record)  -- [SATAverage=1215] ) mark: histogram, score: 0.00 >,\n",
       " <Vis  (x: BIN(ACTMedian), y: COUNT(Record)  -- [SATAverage=1177] ) mark: histogram, score: 0.00 >,\n",
       " <Vis  (x: BIN(ACTMedian), y: COUNT(Record)  -- [SATAverage=999]  ) mark: histogram, score: 0.00 >,\n",
       " <Vis  (x: BIN(ACTMedian), y: COUNT(Record)  -- [SATAverage=1036] ) mark: histogram, score: 0.00 >,\n",
       " <Vis  (x: BIN(ACTMedian), y: COUNT(Record)  -- [SATAverage=1023] ) mark: histogram, score: 0.00 >,\n",
       " <Vis  (x: BIN(ACTMedian), y: COUNT(Record)  -- [SATAverage=950]  ) mark: histogram, score: 0.00 >,\n",
       " <Vis  (x: BIN(ACTMedian), y: COUNT(Record)  -- [SATAverage=1040] ) mark: histogram, score: 0.00 >,\n",
       " <Vis  (x: BIN(ACTMedian), y: COUNT(Record)  -- [SATAverage=1058] ) mark: histogram, score: 0.00 >,\n",
       " <Vis  (x: BIN(ACTMedian), y: COUNT(Record)  -- [SATAverage=1070] ) mark: histogram, score: 0.00 >,\n",
       " <Vis  (x: BIN(ACTMedian), y: COUNT(Record)  -- [SATAverage=1028] ) mark: histogram, score: 0.00 >,\n",
       " <Vis  (x: BIN(ACTMedian), y: COUNT(Record)  -- [SATAverage=924]  ) mark: histogram, score: 0.00 >,\n",
       " <Vis  (x: BIN(ACTMedian), y: COUNT(Record)  -- [SATAverage=1153] ) mark: histogram, score: 0.00 >,\n",
       " <Vis  (x: BIN(ACTMedian), y: COUNT(Record)  -- [SATAverage=1064] ) mark: histogram, score: 0.00 >,\n",
       " <Vis  (x: BIN(ACTMedian), y: COUNT(Record)  -- [SATAverage=1100] ) mark: histogram, score: 0.00 >,\n",
       " <Vis  (x: BIN(ACTMedian), y: COUNT(Record)  -- [SATAverage=882]  ) mark: histogram, score: 0.00 >,\n",
       " <Vis  (x: BIN(ACTMedian), y: COUNT(Record)  -- [SATAverage=990]  ) mark: histogram, score: 0.00 >,\n",
       " <Vis  (x: BIN(ACTMedian), y: COUNT(Record)  -- [SATAverage=937]  ) mark: histogram, score: 0.00 >,\n",
       " <Vis  (x: BIN(ACTMedian), y: COUNT(Record)  -- [SATAverage=1008] ) mark: histogram, score: 0.00 >,\n",
       " <Vis  (x: BIN(ACTMedian), y: COUNT(Record)  -- [SATAverage=1145] ) mark: histogram, score: 0.00 >,\n",
       " <Vis  (x: BIN(ACTMedian), y: COUNT(Record)  -- [SATAverage=1106] ) mark: histogram, score: 0.00 >,\n",
       " <Vis  (x: BIN(ACTMedian), y: COUNT(Record)  -- [SATAverage=1050] ) mark: histogram, score: 0.00 >,\n",
       " <Vis  (x: BIN(ACTMedian), y: COUNT(Record)  -- [SATAverage=1094] ) mark: histogram, score: 0.00 >,\n",
       " <Vis  (x: BIN(ACTMedian), y: COUNT(Record)  -- [SATAverage=1045] ) mark: histogram, score: 0.00 >,\n",
       " <Vis  (x: BIN(ACTMedian), y: COUNT(Record)  -- [SATAverage=1077] ) mark: histogram, score: 0.00 >,\n",
       " <Vis  (x: BIN(ACTMedian), y: COUNT(Record)  -- [SATAverage=1142] ) mark: histogram, score: 0.00 >,\n",
       " <Vis  (x: BIN(ACTMedian), y: COUNT(Record)  -- [SATAverage=1156] ) mark: histogram, score: 0.00 >,\n",
       " <Vis  (x: BIN(ACTMedian), y: COUNT(Record)  -- [SATAverage=842]  ) mark: histogram, score: 0.00 >,\n",
       " <Vis  (x: BIN(ACTMedian), y: COUNT(Record)  -- [SATAverage=1088] ) mark: histogram, score: 0.00 >,\n",
       " <Vis  (x: BIN(ACTMedian), y: COUNT(Record)  -- [SATAverage=974]  ) mark: histogram, score: 0.00 >,\n",
       " <Vis  (x: BIN(ACTMedian), y: COUNT(Record)  -- [SATAverage=1139] ) mark: histogram, score: 0.00 >,\n",
       " <Vis  (x: BIN(ACTMedian), y: COUNT(Record)  -- [SATAverage=1011] ) mark: histogram, score: 0.00 >,\n",
       " <Vis  (x: BIN(ACTMedian), y: COUNT(Record)  -- [SATAverage=1267] ) mark: histogram, score: 0.00 >,\n",
       " <Vis  (x: BIN(ACTMedian), y: COUNT(Record)  -- [SATAverage=1144] ) mark: histogram, score: 0.00 >,\n",
       " <Vis  (x: BIN(ACTMedian), y: COUNT(Record)  -- [SATAverage=1090] ) mark: histogram, score: 0.00 >,\n",
       " <Vis  (x: BIN(ACTMedian), y: COUNT(Record)  -- [SATAverage=1057] ) mark: histogram, score: 0.00 >,\n",
       " <Vis  (x: BIN(ACTMedian), y: COUNT(Record)  -- [SATAverage=930]  ) mark: histogram, score: 0.00 >,\n",
       " <Vis  (x: BIN(ACTMedian), y: COUNT(Record)  -- [SATAverage=1001] ) mark: histogram, score: 0.00 >,\n",
       " <Vis  (x: BIN(ACTMedian), y: COUNT(Record)  -- [SATAverage=989]  ) mark: histogram, score: 0.00 >,\n",
       " <Vis  (x: BIN(ACTMedian), y: COUNT(Record)  -- [SATAverage=1098] ) mark: histogram, score: 0.00 >,\n",
       " <Vis  (x: BIN(ACTMedian), y: COUNT(Record)  -- [SATAverage=1123] ) mark: histogram, score: 0.00 >,\n",
       " <Vis  (x: BIN(ACTMedian), y: COUNT(Record)  -- [SATAverage=984]  ) mark: histogram, score: 0.00 >,\n",
       " <Vis  (x: BIN(ACTMedian), y: COUNT(Record)  -- [SATAverage=1534] ) mark: histogram, score: 0.00 >,\n",
       " <Vis  (x: BIN(ACTMedian), y: COUNT(Record)  -- [SATAverage=1108] ) mark: histogram, score: 0.00 >,\n",
       " <Vis  (x: BIN(ACTMedian), y: COUNT(Record)  -- [SATAverage=1242] ) mark: histogram, score: 0.00 >,\n",
       " <Vis  (x: BIN(ACTMedian), y: COUNT(Record)  -- [SATAverage=901]  ) mark: histogram, score: 0.00 >,\n",
       " <Vis  (x: BIN(ACTMedian), y: COUNT(Record)  -- [SATAverage=917]  ) mark: histogram, score: 0.00 >,\n",
       " <Vis  (x: BIN(ACTMedian), y: COUNT(Record)  -- [SATAverage=888]  ) mark: histogram, score: 0.00 >,\n",
       " <Vis  (x: BIN(ACTMedian), y: COUNT(Record)  -- [SATAverage=1014] ) mark: histogram, score: 0.00 >,\n",
       " <Vis  (x: BIN(ACTMedian), y: COUNT(Record)  -- [SATAverage=845]  ) mark: histogram, score: 0.00 >,\n",
       " <Vis  (x: BIN(ACTMedian), y: COUNT(Record)  -- [SATAverage=920]  ) mark: histogram, score: 0.00 >,\n",
       " <Vis  (x: BIN(ACTMedian), y: COUNT(Record)  -- [SATAverage=1021] ) mark: histogram, score: 0.00 >,\n",
       " <Vis  (x: BIN(ACTMedian), y: COUNT(Record)  -- [SATAverage=910]  ) mark: histogram, score: 0.00 >,\n",
       " <Vis  (x: BIN(ACTMedian), y: COUNT(Record)  -- [SATAverage=1012] ) mark: histogram, score: 0.00 >,\n",
       " <Vis  (x: BIN(ACTMedian), y: COUNT(Record)  -- [SATAverage=871]  ) mark: histogram, score: 0.00 >,\n",
       " <Vis  (x: BIN(ACTMedian), y: COUNT(Record)  -- [SATAverage=918]  ) mark: histogram, score: 0.00 >,\n",
       " <Vis  (x: BIN(ACTMedian), y: COUNT(Record)  -- [SATAverage=945]  ) mark: histogram, score: 0.00 >,\n",
       " <Vis  (x: BIN(ACTMedian), y: COUNT(Record)  -- [SATAverage=1350] ) mark: histogram, score: 0.00 >,\n",
       " <Vis  (x: BIN(ACTMedian), y: COUNT(Record)  -- [SATAverage=1192] ) mark: histogram, score: 0.00 >,\n",
       " <Vis  (x: BIN(ACTMedian), y: COUNT(Record)  -- [SATAverage=1122] ) mark: histogram, score: 0.00 >,\n",
       " <Vis  (x: BIN(ACTMedian), y: COUNT(Record)  -- [SATAverage=1289] ) mark: histogram, score: 0.00 >,\n",
       " <Vis  (x: BIN(ACTMedian), y: COUNT(Record)  -- [SATAverage=1078] ) mark: histogram, score: 0.00 >,\n",
       " <Vis  (x: BIN(ACTMedian), y: COUNT(Record)  -- [SATAverage=1276] ) mark: histogram, score: 0.00 >,\n",
       " <Vis  (x: BIN(ACTMedian), y: COUNT(Record)  -- [SATAverage=1212] ) mark: histogram, score: 0.00 >,\n",
       " <Vis  (x: BIN(ACTMedian), y: COUNT(Record)  -- [SATAverage=1087] ) mark: histogram, score: 0.00 >,\n",
       " <Vis  (x: BIN(ACTMedian), y: COUNT(Record)  -- [SATAverage=1080] ) mark: histogram, score: 0.00 >,\n",
       " <Vis  (x: BIN(ACTMedian), y: COUNT(Record)  -- [SATAverage=1208] ) mark: histogram, score: 0.00 >,\n",
       " <Vis  (x: BIN(ACTMedian), y: COUNT(Record)  -- [SATAverage=1020] ) mark: histogram, score: 0.00 >,\n",
       " <Vis  (x: BIN(ACTMedian), y: COUNT(Record)  -- [SATAverage=986]  ) mark: histogram, score: 0.00 >,\n",
       " <Vis  (x: BIN(ACTMedian), y: COUNT(Record)  -- [SATAverage=1397] ) mark: histogram, score: 0.00 >,\n",
       " <Vis  (x: BIN(ACTMedian), y: COUNT(Record)  -- [SATAverage=979]  ) mark: histogram, score: 0.00 >,\n",
       " <Vis  (x: BIN(ACTMedian), y: COUNT(Record)  -- [SATAverage=1483] ) mark: histogram, score: 0.00 >,\n",
       " <Vis  (x: BIN(ACTMedian), y: COUNT(Record)  -- [SATAverage=1035] ) mark: histogram, score: 0.00 >,\n",
       " <Vis  (x: BIN(ACTMedian), y: COUNT(Record)  -- [SATAverage=926]  ) mark: histogram, score: 0.00 >,\n",
       " <Vis  (x: BIN(ACTMedian), y: COUNT(Record)  -- [SATAverage=1104] ) mark: histogram, score: 0.00 >,\n",
       " <Vis  (x: BIN(ACTMedian), y: COUNT(Record)  -- [SATAverage=1202] ) mark: histogram, score: 0.00 >,\n",
       " <Vis  (x: BIN(ACTMedian), y: COUNT(Record)  -- [SATAverage=1151] ) mark: histogram, score: 0.00 >,\n",
       " <Vis  (x: BIN(ACTMedian), y: COUNT(Record)  -- [SATAverage=928]  ) mark: histogram, score: 0.00 >,\n",
       " <Vis  (x: BIN(ACTMedian), y: COUNT(Record)  -- [SATAverage=972]  ) mark: histogram, score: 0.00 >,\n",
       " <Vis  (x: BIN(ACTMedian), y: COUNT(Record)  -- [SATAverage=1303] ) mark: histogram, score: 0.00 >,\n",
       " <Vis  (x: BIN(ACTMedian), y: COUNT(Record)  -- [SATAverage=1002] ) mark: histogram, score: 0.00 >,\n",
       " <Vis  (x: BIN(ACTMedian), y: COUNT(Record)  -- [SATAverage=951]  ) mark: histogram, score: 0.00 >,\n",
       " <Vis  (x: BIN(ACTMedian), y: COUNT(Record)  -- [SATAverage=1017] ) mark: histogram, score: 0.00 >,\n",
       " <Vis  (x: BIN(ACTMedian), y: COUNT(Record)  -- [SATAverage=1172] ) mark: histogram, score: 0.00 >,\n",
       " <Vis  (x: BIN(ACTMedian), y: COUNT(Record)  -- [SATAverage=1155] ) mark: histogram, score: 0.00 >,\n",
       " <Vis  (x: BIN(ACTMedian), y: COUNT(Record)  -- [SATAverage=1454] ) mark: histogram, score: 0.00 >,\n",
       " <Vis  (x: BIN(ACTMedian), y: COUNT(Record)  -- [SATAverage=1135] ) mark: histogram, score: 0.00 >,\n",
       " <Vis  (x: BIN(ACTMedian), y: COUNT(Record)  -- [SATAverage=1228] ) mark: histogram, score: 0.00 >,\n",
       " <Vis  (x: BIN(ACTMedian), y: COUNT(Record)  -- [SATAverage=1061] ) mark: histogram, score: 0.00 >,\n",
       " <Vis  (x: BIN(ACTMedian), y: COUNT(Record)  -- [SATAverage=998]  ) mark: histogram, score: 0.00 >,\n",
       " <Vis  (x: BIN(ACTMedian), y: COUNT(Record)  -- [SATAverage=1161] ) mark: histogram, score: 0.00 >,\n",
       " <Vis  (x: BIN(ACTMedian), y: COUNT(Record)  -- [SATAverage=1039] ) mark: histogram, score: 0.00 >,\n",
       " <Vis  (x: BIN(ACTMedian), y: COUNT(Record)  -- [SATAverage=1030] ) mark: histogram, score: 0.00 >,\n",
       " <Vis  (x: BIN(ACTMedian), y: COUNT(Record)  -- [SATAverage=1294] ) mark: histogram, score: 0.00 >,\n",
       " <Vis  (x: BIN(ACTMedian), y: COUNT(Record)  -- [SATAverage=1364] ) mark: histogram, score: 0.00 >,\n",
       " <Vis  (x: BIN(ACTMedian), y: COUNT(Record)  -- [SATAverage=1115] ) mark: histogram, score: 0.00 >,\n",
       " <Vis  (x: BIN(ACTMedian), y: COUNT(Record)  -- [SATAverage=1006] ) mark: histogram, score: 0.00 >,\n",
       " <Vis  (x: BIN(ACTMedian), y: COUNT(Record)  -- [SATAverage=980]  ) mark: histogram, score: 0.00 >,\n",
       " <Vis  (x: BIN(ACTMedian), y: COUNT(Record)  -- [SATAverage=1137] ) mark: histogram, score: 0.00 >,\n",
       " <Vis  (x: BIN(ACTMedian), y: COUNT(Record)  -- [SATAverage=1380] ) mark: histogram, score: 0.00 >,\n",
       " <Vis  (x: BIN(ACTMedian), y: COUNT(Record)  -- [SATAverage=1243] ) mark: histogram, score: 0.00 >,\n",
       " <Vis  (x: BIN(ACTMedian), y: COUNT(Record)  -- [SATAverage=1193] ) mark: histogram, score: 0.00 >,\n",
       " <Vis  (x: BIN(ACTMedian), y: COUNT(Record)  -- [SATAverage=1043] ) mark: histogram, score: 0.00 >,\n",
       " <Vis  (x: BIN(ACTMedian), y: COUNT(Record)  -- [SATAverage=987]  ) mark: histogram, score: 0.00 >,\n",
       " <Vis  (x: BIN(ACTMedian), y: COUNT(Record)  -- [SATAverage=939]  ) mark: histogram, score: 0.00 >,\n",
       " <Vis  (x: BIN(ACTMedian), y: COUNT(Record)  -- [SATAverage=1073] ) mark: histogram, score: 0.00 >,\n",
       " <Vis  (x: BIN(ACTMedian), y: COUNT(Record)  -- [SATAverage=1068] ) mark: histogram, score: 0.00 >,\n",
       " <Vis  (x: BIN(ACTMedian), y: COUNT(Record)  -- [SATAverage=1323] ) mark: histogram, score: 0.00 >,\n",
       " <Vis  (x: BIN(ACTMedian), y: COUNT(Record)  -- [SATAverage=1298] ) mark: histogram, score: 0.00 >,\n",
       " <Vis  (x: BIN(ACTMedian), y: COUNT(Record)  -- [SATAverage=1127] ) mark: histogram, score: 0.00 >,\n",
       " <Vis  (x: BIN(ACTMedian), y: COUNT(Record)  -- [SATAverage=1231] ) mark: histogram, score: 0.00 >,\n",
       " <Vis  (x: BIN(ACTMedian), y: COUNT(Record)  -- [SATAverage=1049] ) mark: histogram, score: 0.00 >,\n",
       " <Vis  (x: BIN(ACTMedian), y: COUNT(Record)  -- [SATAverage=973]  ) mark: histogram, score: 0.00 >,\n",
       " <Vis  (x: BIN(ACTMedian), y: COUNT(Record)  -- [SATAverage=1029] ) mark: histogram, score: 0.00 >,\n",
       " <Vis  (x: BIN(ACTMedian), y: COUNT(Record)  -- [SATAverage=967]  ) mark: histogram, score: 0.00 >,\n",
       " <Vis  (x: BIN(ACTMedian), y: COUNT(Record)  -- [SATAverage=1005] ) mark: histogram, score: 0.00 >,\n",
       " <Vis  (x: BIN(ACTMedian), y: COUNT(Record)  -- [SATAverage=923]  ) mark: histogram, score: 0.00 >,\n",
       " <Vis  (x: BIN(ACTMedian), y: COUNT(Record)  -- [SATAverage=1233] ) mark: histogram, score: 0.00 >,\n",
       " <Vis  (x: BIN(ACTMedian), y: COUNT(Record)  -- [SATAverage=1053] ) mark: histogram, score: 0.00 >,\n",
       " <Vis  (x: BIN(ACTMedian), y: COUNT(Record)  -- [SATAverage=1034] ) mark: histogram, score: 0.00 >,\n",
       " <Vis  (x: BIN(ACTMedian), y: COUNT(Record)  -- [SATAverage=865]  ) mark: histogram, score: 0.00 >,\n",
       " <Vis  (x: BIN(ACTMedian), y: COUNT(Record)  -- [SATAverage=1102] ) mark: histogram, score: 0.00 >,\n",
       " <Vis  (x: BIN(ACTMedian), y: COUNT(Record)  -- [SATAverage=921]  ) mark: histogram, score: 0.00 >,\n",
       " <Vis  (x: BIN(ACTMedian), y: COUNT(Record)  -- [SATAverage=1240] ) mark: histogram, score: 0.00 >,\n",
       " <Vis  (x: BIN(ACTMedian), y: COUNT(Record)  -- [SATAverage=1387] ) mark: histogram, score: 0.00 >,\n",
       " <Vis  (x: BIN(ACTMedian), y: COUNT(Record)  -- [SATAverage=1497] ) mark: histogram, score: 0.00 >,\n",
       " <Vis  (x: BIN(ACTMedian), y: COUNT(Record)  -- [SATAverage=890]  ) mark: histogram, score: 0.00 >,\n",
       " <Vis  (x: BIN(ACTMedian), y: COUNT(Record)  -- [SATAverage=1178] ) mark: histogram, score: 0.00 >,\n",
       " <Vis  (x: BIN(ACTMedian), y: COUNT(Record)  -- [SATAverage=841]  ) mark: histogram, score: 0.00 >,\n",
       " <Vis  (x: BIN(ACTMedian), y: COUNT(Record)  -- [SATAverage=1258] ) mark: histogram, score: 0.00 >,\n",
       " <Vis  (x: BIN(ACTMedian), y: COUNT(Record)  -- [SATAverage=1118] ) mark: histogram, score: 0.00 >,\n",
       " <Vis  (x: BIN(ACTMedian), y: COUNT(Record)  -- [SATAverage=1297] ) mark: histogram, score: 0.00 >,\n",
       " <Vis  (x: BIN(ACTMedian), y: COUNT(Record)  -- [SATAverage=1398] ) mark: histogram, score: 0.00 >,\n",
       " <Vis  (x: BIN(ACTMedian), y: COUNT(Record)  -- [SATAverage=1081] ) mark: histogram, score: 0.00 >,\n",
       " <Vis  (x: BIN(ACTMedian), y: COUNT(Record)  -- [SATAverage=1062] ) mark: histogram, score: 0.00 >,\n",
       " <Vis  (x: BIN(ACTMedian), y: COUNT(Record)  -- [SATAverage=812]  ) mark: histogram, score: 0.00 >,\n",
       " <Vis  (x: BIN(ACTMedian), y: COUNT(Record)  -- [SATAverage=940]  ) mark: histogram, score: 0.00 >,\n",
       " <Vis  (x: BIN(ACTMedian), y: COUNT(Record)  -- [SATAverage=1175] ) mark: histogram, score: 0.00 >,\n",
       " <Vis  (x: BIN(ACTMedian), y: COUNT(Record)  -- [SATAverage=1026] ) mark: histogram, score: 0.00 >,\n",
       " <Vis  (x: BIN(ACTMedian), y: COUNT(Record)  -- [SATAverage=1138] ) mark: histogram, score: 0.00 >,\n",
       " <Vis  (x: BIN(ACTMedian), y: COUNT(Record)  -- [SATAverage=802]  ) mark: histogram, score: 0.00 >,\n",
       " <Vis  (x: BIN(ACTMedian), y: COUNT(Record)  -- [SATAverage=1105] ) mark: histogram, score: 0.00 >,\n",
       " <Vis  (x: BIN(ACTMedian), y: COUNT(Record)  -- [SATAverage=947]  ) mark: histogram, score: 0.00 >,\n",
       " <Vis  (x: BIN(ACTMedian), y: COUNT(Record)  -- [SATAverage=1096] ) mark: histogram, score: 0.00 >,\n",
       " <Vis  (x: BIN(ACTMedian), y: COUNT(Record)  -- [SATAverage=1060] ) mark: histogram, score: 0.00 >,\n",
       " <Vis  (x: BIN(ACTMedian), y: COUNT(Record)  -- [SATAverage=884]  ) mark: histogram, score: 0.00 >,\n",
       " <Vis  (x: BIN(ACTMedian), y: COUNT(Record)  -- [SATAverage=1154] ) mark: histogram, score: 0.00 >,\n",
       " <Vis  (x: BIN(ACTMedian), y: COUNT(Record)  -- [SATAverage=1272] ) mark: histogram, score: 0.00 >,\n",
       " <Vis  (x: BIN(ACTMedian), y: COUNT(Record)  -- [SATAverage=1010] ) mark: histogram, score: 0.00 >,\n",
       " <Vis  (x: BIN(ACTMedian), y: COUNT(Record)  -- [SATAverage=1332] ) mark: histogram, score: 0.00 >,\n",
       " <Vis  (x: BIN(ACTMedian), y: COUNT(Record)  -- [SATAverage=1143] ) mark: histogram, score: 0.00 >,\n",
       " <Vis  (x: BIN(ACTMedian), y: COUNT(Record)  -- [SATAverage=932]  ) mark: histogram, score: 0.00 >,\n",
       " <Vis  (x: BIN(ACTMedian), y: COUNT(Record)  -- [SATAverage=1084] ) mark: histogram, score: 0.00 >,\n",
       " <Vis  (x: BIN(ACTMedian), y: COUNT(Record)  -- [SATAverage=1199] ) mark: histogram, score: 0.00 >,\n",
       " <Vis  (x: BIN(ACTMedian), y: COUNT(Record)  -- [SATAverage=1168] ) mark: histogram, score: 0.00 >,\n",
       " <Vis  (x: BIN(ACTMedian), y: COUNT(Record)  -- [SATAverage=904]  ) mark: histogram, score: 0.00 >,\n",
       " <Vis  (x: BIN(ACTMedian), y: COUNT(Record)  -- [SATAverage=955]  ) mark: histogram, score: 0.00 >,\n",
       " <Vis  (x: BIN(ACTMedian), y: COUNT(Record)  -- [SATAverage=1075] ) mark: histogram, score: 0.00 >,\n",
       " <Vis  (x: BIN(ACTMedian), y: COUNT(Record)  -- [SATAverage=863]  ) mark: histogram, score: 0.00 >,\n",
       " <Vis  (x: BIN(ACTMedian), y: COUNT(Record)  -- [SATAverage=908]  ) mark: histogram, score: 0.00 >,\n",
       " <Vis  (x: BIN(ACTMedian), y: COUNT(Record)  -- [SATAverage=922]  ) mark: histogram, score: 0.00 >,\n",
       " <Vis  (x: BIN(ACTMedian), y: COUNT(Record)  -- [SATAverage=897]  ) mark: histogram, score: 0.00 >,\n",
       " <Vis  (x: BIN(ACTMedian), y: COUNT(Record)  -- [SATAverage=887]  ) mark: histogram, score: 0.00 >,\n",
       " <Vis  (x: BIN(ACTMedian), y: COUNT(Record)  -- [SATAverage=825]  ) mark: histogram, score: 0.00 >,\n",
       " <Vis  (x: BIN(ACTMedian), y: COUNT(Record)  -- [SATAverage=997]  ) mark: histogram, score: 0.00 >,\n",
       " <Vis  (x: BIN(ACTMedian), y: COUNT(Record)  -- [SATAverage=946]  ) mark: histogram, score: 0.00 >,\n",
       " <Vis  (x: BIN(ACTMedian), y: COUNT(Record)  -- [SATAverage=880]  ) mark: histogram, score: 0.00 >,\n",
       " <Vis  (x: BIN(ACTMedian), y: COUNT(Record)  -- [SATAverage=1186] ) mark: histogram, score: 0.00 >,\n",
       " <Vis  (x: BIN(ACTMedian), y: COUNT(Record)  -- [SATAverage=957]  ) mark: histogram, score: 0.00 >,\n",
       " <Vis  (x: BIN(ACTMedian), y: COUNT(Record)  -- [SATAverage=896]  ) mark: histogram, score: 0.00 >,\n",
       " <Vis  (x: BIN(ACTMedian), y: COUNT(Record)  -- [SATAverage=1173] ) mark: histogram, score: 0.00 >,\n",
       " <Vis  (x: BIN(ACTMedian), y: COUNT(Record)  -- [SATAverage=1363] ) mark: histogram, score: 0.00 >,\n",
       " <Vis  (x: BIN(ACTMedian), y: COUNT(Record)  -- [SATAverage=1352] ) mark: histogram, score: 0.00 >,\n",
       " <Vis  (x: BIN(ACTMedian), y: COUNT(Record)  -- [SATAverage=1126] ) mark: histogram, score: 0.00 >,\n",
       " <Vis  (x: BIN(ACTMedian), y: COUNT(Record)  -- [SATAverage=1247] ) mark: histogram, score: 0.00 >,\n",
       " <Vis  (x: BIN(ACTMedian), y: COUNT(Record)  -- [SATAverage=840]  ) mark: histogram, score: 0.00 >,\n",
       " <Vis  (x: BIN(ACTMedian), y: COUNT(Record)  -- [SATAverage=995]  ) mark: histogram, score: 0.00 >,\n",
       " <Vis  (x: BIN(ACTMedian), y: COUNT(Record)  -- [SATAverage=1131] ) mark: histogram, score: 0.00 >,\n",
       " <Vis  (x: BIN(ACTMedian), y: COUNT(Record)  -- [SATAverage=778]  ) mark: histogram, score: 0.00 >,\n",
       " <Vis  (x: BIN(ACTMedian), y: COUNT(Record)  -- [SATAverage=1013] ) mark: histogram, score: 0.00 >,\n",
       " <Vis  (x: BIN(ACTMedian), y: COUNT(Record)  -- [SATAverage=847]  ) mark: histogram, score: 0.00 >,\n",
       " <Vis  (x: BIN(ACTMedian), y: COUNT(Record)  -- [SATAverage=954]  ) mark: histogram, score: 0.00 >,\n",
       " <Vis  (x: BIN(ACTMedian), y: COUNT(Record)  -- [SATAverage=1024] ) mark: histogram, score: 0.00 >,\n",
       " <Vis  (x: BIN(ACTMedian), y: COUNT(Record)  -- [SATAverage=1000] ) mark: histogram, score: 0.00 >,\n",
       " <Vis  (x: BIN(ACTMedian), y: COUNT(Record)  -- [SATAverage=1033] ) mark: histogram, score: 0.00 >,\n",
       " <Vis  (x: BIN(ACTMedian), y: COUNT(Record)  -- [SATAverage=982]  ) mark: histogram, score: 0.00 >,\n",
       " <Vis  (x: BIN(ACTMedian), y: COUNT(Record)  -- [SATAverage=891]  ) mark: histogram, score: 0.00 >,\n",
       " <Vis  (x: BIN(ACTMedian), y: COUNT(Record)  -- [SATAverage=977]  ) mark: histogram, score: 0.00 >,\n",
       " <Vis  (x: BIN(ACTMedian), y: COUNT(Record)  -- [SATAverage=936]  ) mark: histogram, score: 0.00 >,\n",
       " <Vis  (x: BIN(ACTMedian), y: COUNT(Record)  -- [SATAverage=1079] ) mark: histogram, score: 0.00 >,\n",
       " <Vis  (x: BIN(ACTMedian), y: COUNT(Record)  -- [SATAverage=1065] ) mark: histogram, score: 0.00 >,\n",
       " <Vis  (x: BIN(ACTMedian), y: COUNT(Record)  -- [SATAverage=1163] ) mark: histogram, score: 0.00 >,\n",
       " <Vis  (x: BIN(ACTMedian), y: COUNT(Record)  -- [SATAverage=892]  ) mark: histogram, score: 0.00 >,\n",
       " <Vis  (x: BIN(ACTMedian), y: COUNT(Record)  -- [SATAverage=1504] ) mark: histogram, score: 0.00 >,\n",
       " <Vis  (x: BIN(ACTMedian), y: COUNT(Record)  -- [SATAverage=1019] ) mark: histogram, score: 0.00 >,\n",
       " <Vis  (x: BIN(ACTMedian), y: COUNT(Record)  -- [SATAverage=1092] ) mark: histogram, score: 0.00 >,\n",
       " <Vis  (x: BIN(ACTMedian), y: COUNT(Record)  -- [SATAverage=1241] ) mark: histogram, score: 0.00 >,\n",
       " <Vis  (x: BIN(ACTMedian), y: COUNT(Record)  -- [SATAverage=1252] ) mark: histogram, score: 0.00 >,\n",
       " <Vis  (x: BIN(ACTMedian), y: COUNT(Record)  -- [SATAverage=1110] ) mark: histogram, score: 0.00 >,\n",
       " <Vis  (x: BIN(ACTMedian), y: COUNT(Record)  -- [SATAverage=1157] ) mark: histogram, score: 0.00 >,\n",
       " <Vis  (x: BIN(ACTMedian), y: COUNT(Record)  -- [SATAverage=996]  ) mark: histogram, score: 0.00 >,\n",
       " <Vis  (x: BIN(ACTMedian), y: COUNT(Record)  -- [SATAverage=850]  ) mark: histogram, score: 0.00 >,\n",
       " <Vis  (x: BIN(ACTMedian), y: COUNT(Record)  -- [SATAverage=1195] ) mark: histogram, score: 0.00 >,\n",
       " <Vis  (x: BIN(ACTMedian), y: COUNT(Record)  -- [SATAverage=964]  ) mark: histogram, score: 0.00 >,\n",
       " <Vis  (x: BIN(ACTMedian), y: COUNT(Record)  -- [SATAverage=1046] ) mark: histogram, score: 0.00 >,\n",
       " <Vis  (x: BIN(ACTMedian), y: COUNT(Record)  -- [SATAverage=1125] ) mark: histogram, score: 0.00 >,\n",
       " <Vis  (x: BIN(ACTMedian), y: COUNT(Record)  -- [SATAverage=1458] ) mark: histogram, score: 0.00 >,\n",
       " <Vis  (x: BIN(ACTMedian), y: COUNT(Record)  -- [SATAverage=1048] ) mark: histogram, score: 0.00 >,\n",
       " <Vis  (x: BIN(ACTMedian), y: COUNT(Record)  -- [SATAverage=1031] ) mark: histogram, score: 0.00 >,\n",
       " <Vis  (x: BIN(ACTMedian), y: COUNT(Record)  -- [SATAverage=1085] ) mark: histogram, score: 0.00 >,\n",
       " <Vis  (x: BIN(ACTMedian), y: COUNT(Record)  -- [SATAverage=1032] ) mark: histogram, score: 0.00 >,\n",
       " <Vis  (x: BIN(ACTMedian), y: COUNT(Record)  -- [SATAverage=1318] ) mark: histogram, score: 0.00 >,\n",
       " <Vis  (x: BIN(ACTMedian), y: COUNT(Record)  -- [SATAverage=1047] ) mark: histogram, score: 0.00 >,\n",
       " <Vis  (x: BIN(ACTMedian), y: COUNT(Record)  -- [SATAverage=855]  ) mark: histogram, score: 0.00 >,\n",
       " <Vis  (x: BIN(ACTMedian), y: COUNT(Record)  -- [SATAverage=1262] ) mark: histogram, score: 0.00 >,\n",
       " <Vis  (x: BIN(ACTMedian), y: COUNT(Record)  -- [SATAverage=1147] ) mark: histogram, score: 0.00 >,\n",
       " <Vis  (x: BIN(ACTMedian), y: COUNT(Record)  -- [SATAverage=1130] ) mark: histogram, score: 0.00 >,\n",
       " <Vis  (x: BIN(ACTMedian), y: COUNT(Record)  -- [SATAverage=1054] ) mark: histogram, score: 0.00 >,\n",
       " <Vis  (x: BIN(ACTMedian), y: COUNT(Record)  -- [SATAverage=1018] ) mark: histogram, score: 0.00 >,\n",
       " <Vis  (x: BIN(ACTMedian), y: COUNT(Record)  -- [SATAverage=934]  ) mark: histogram, score: 0.00 >,\n",
       " <Vis  (x: BIN(ACTMedian), y: COUNT(Record)  -- [SATAverage=1004] ) mark: histogram, score: 0.00 >,\n",
       " <Vis  (x: BIN(ACTMedian), y: COUNT(Record)  -- [SATAverage=962]  ) mark: histogram, score: 0.00 >,\n",
       " <Vis  (x: BIN(ACTMedian), y: COUNT(Record)  -- [SATAverage=1198] ) mark: histogram, score: 0.00 >,\n",
       " <Vis  (x: BIN(ACTMedian), y: COUNT(Record)  -- [SATAverage=943]  ) mark: histogram, score: 0.00 >,\n",
       " <Vis  (x: BIN(ACTMedian), y: COUNT(Record)  -- [SATAverage=1083] ) mark: histogram, score: 0.00 >,\n",
       " <Vis  (x: BIN(ACTMedian), y: COUNT(Record)  -- [SATAverage=1450] ) mark: histogram, score: 0.00 >,\n",
       " <Vis  (x: BIN(ACTMedian), y: COUNT(Record)  -- [SATAverage=988]  ) mark: histogram, score: 0.00 >,\n",
       " <Vis  (x: BIN(ACTMedian), y: COUNT(Record)  -- [SATAverage=1310] ) mark: histogram, score: 0.00 >,\n",
       " <Vis  (x: BIN(ACTMedian), y: COUNT(Record)  -- [SATAverage=981]  ) mark: histogram, score: 0.00 >,\n",
       " <Vis  (x: BIN(ACTMedian), y: COUNT(Record)  -- [SATAverage=895]  ) mark: histogram, score: 0.00 >,\n",
       " <Vis  (x: BIN(ACTMedian), y: COUNT(Record)  -- [SATAverage=1141] ) mark: histogram, score: 0.00 >,\n",
       " <Vis  (x: BIN(ACTMedian), y: COUNT(Record)  -- [SATAverage=1214] ) mark: histogram, score: 0.00 >,\n",
       " <Vis  (x: BIN(ACTMedian), y: COUNT(Record)  -- [SATAverage=1095] ) mark: histogram, score: 0.00 >,\n",
       " <Vis  (x: BIN(ACTMedian), y: COUNT(Record)  -- [SATAverage=1158] ) mark: histogram, score: 0.00 >,\n",
       " <Vis  (x: BIN(ACTMedian), y: COUNT(Record)  -- [SATAverage=1089] ) mark: histogram, score: 0.00 >,\n",
       " <Vis  (x: BIN(ACTMedian), y: COUNT(Record)  -- [SATAverage=1166] ) mark: histogram, score: 0.00 >,\n",
       " <Vis  (x: BIN(ACTMedian), y: COUNT(Record)  -- [SATAverage=1182] ) mark: histogram, score: 0.00 >,\n",
       " <Vis  (x: BIN(ACTMedian), y: COUNT(Record)  -- [SATAverage=1119] ) mark: histogram, score: 0.00 >,\n",
       " <Vis  (x: BIN(ACTMedian), y: COUNT(Record)  -- [SATAverage=969]  ) mark: histogram, score: 0.00 >,\n",
       " <Vis  (x: BIN(ACTMedian), y: COUNT(Record)  -- [SATAverage=1357] ) mark: histogram, score: 0.00 >,\n",
       " <Vis  (x: BIN(ACTMedian), y: COUNT(Record)  -- [SATAverage=1086] ) mark: histogram, score: 0.00 >,\n",
       " <Vis  (x: BIN(ACTMedian), y: COUNT(Record)  -- [SATAverage=956]  ) mark: histogram, score: 0.00 >,\n",
       " <Vis  (x: BIN(ACTMedian), y: COUNT(Record)  -- [SATAverage=1015] ) mark: histogram, score: 0.00 >,\n",
       " <Vis  (x: BIN(ACTMedian), y: COUNT(Record)  -- [SATAverage=1116] ) mark: histogram, score: 0.00 >,\n",
       " <Vis  (x: BIN(ACTMedian), y: COUNT(Record)  -- [SATAverage=1113] ) mark: histogram, score: 0.00 >,\n",
       " <Vis  (x: BIN(ACTMedian), y: COUNT(Record)  -- [SATAverage=985]  ) mark: histogram, score: 0.00 >,\n",
       " <Vis  (x: BIN(ACTMedian), y: COUNT(Record)  -- [SATAverage=1268] ) mark: histogram, score: 0.00 >,\n",
       " <Vis  (x: BIN(ACTMedian), y: COUNT(Record)  -- [SATAverage=1009] ) mark: histogram, score: 0.00 >,\n",
       " <Vis  (x: BIN(ACTMedian), y: COUNT(Record)  -- [SATAverage=860]  ) mark: histogram, score: 0.00 >,\n",
       " <Vis  (x: BIN(ACTMedian), y: COUNT(Record)  -- [SATAverage=1140] ) mark: histogram, score: 0.00 >,\n",
       " <Vis  (x: BIN(ACTMedian), y: COUNT(Record)  -- [SATAverage=976]  ) mark: histogram, score: 0.00 >,\n",
       " <Vis  (x: BIN(ACTMedian), y: COUNT(Record)  -- [SATAverage=909]  ) mark: histogram, score: 0.00 >,\n",
       " <Vis  (x: BIN(ACTMedian), y: COUNT(Record)  -- [SATAverage=952]  ) mark: histogram, score: 0.00 >,\n",
       " <Vis  (x: BIN(ACTMedian), y: COUNT(Record)  -- [SATAverage=1213] ) mark: histogram, score: 0.00 >,\n",
       " <Vis  (x: BIN(ACTMedian), y: COUNT(Record)  -- [SATAverage=1007] ) mark: histogram, score: 0.00 >,\n",
       " <Vis  (x: BIN(ACTMedian), y: COUNT(Record)  -- [SATAverage=1162] ) mark: histogram, score: 0.00 >,\n",
       " <Vis  (x: BIN(ACTMedian), y: COUNT(Record)  -- [SATAverage=968]  ) mark: histogram, score: 0.00 >,\n",
       " <Vis  (x: BIN(ACTMedian), y: COUNT(Record)  -- [SATAverage=1072] ) mark: histogram, score: 0.00 >,\n",
       " <Vis  (x: BIN(ACTMedian), y: COUNT(Record)  -- [SATAverage=808]  ) mark: histogram, score: 0.00 >,\n",
       " <Vis  (x: BIN(ACTMedian), y: COUNT(Record)  -- [SATAverage=1341] ) mark: histogram, score: 0.00 >,\n",
       " <Vis  (x: BIN(ACTMedian), y: COUNT(Record)  -- [SATAverage=1423] ) mark: histogram, score: 0.00 >,\n",
       " <Vis  (x: BIN(ACTMedian), y: COUNT(Record)  -- [SATAverage=1343] ) mark: histogram, score: 0.00 >,\n",
       " <Vis  (x: BIN(ACTMedian), y: COUNT(Record)  -- [SATAverage=1003] ) mark: histogram, score: 0.00 >,\n",
       " <Vis  (x: BIN(ACTMedian), y: COUNT(Record)  -- [SATAverage=886]  ) mark: histogram, score: 0.00 >,\n",
       " <Vis  (x: BIN(ACTMedian), y: COUNT(Record)  -- [SATAverage=1042] ) mark: histogram, score: 0.00 >,\n",
       " <Vis  (x: BIN(ACTMedian), y: COUNT(Record)  -- [SATAverage=963]  ) mark: histogram, score: 0.00 >,\n",
       " <Vis  (x: BIN(ACTMedian), y: COUNT(Record)  -- [SATAverage=1418] ) mark: histogram, score: 0.00 >,\n",
       " <Vis  (x: BIN(ACTMedian), y: COUNT(Record)  -- [SATAverage=1194] ) mark: histogram, score: 0.00 >,\n",
       " <Vis  (x: BIN(ACTMedian), y: COUNT(Record)  -- [SATAverage=1209] ) mark: histogram, score: 0.00 >,\n",
       " <Vis  (x: BIN(ACTMedian), y: COUNT(Record)  -- [SATAverage=893]  ) mark: histogram, score: 0.00 >,\n",
       " <Vis  (x: BIN(ACTMedian), y: COUNT(Record)  -- [SATAverage=1221] ) mark: histogram, score: 0.00 >,\n",
       " <Vis  (x: BIN(ACTMedian), y: COUNT(Record)  -- [SATAverage=885]  ) mark: histogram, score: 0.00 >,\n",
       " <Vis  (x: BIN(ACTMedian), y: COUNT(Record)  -- [SATAverage=1434] ) mark: histogram, score: 0.00 >,\n",
       " <Vis  (x: BIN(ACTMedian), y: COUNT(Record)  -- [SATAverage=1234] ) mark: histogram, score: 0.00 >,\n",
       " <Vis  (x: BIN(ACTMedian), y: COUNT(Record)  -- [SATAverage=1375] ) mark: histogram, score: 0.00 >,\n",
       " <Vis  (x: BIN(ACTMedian), y: COUNT(Record)  -- [SATAverage=1279] ) mark: histogram, score: 0.00 >,\n",
       " <Vis  (x: BIN(ACTMedian), y: COUNT(Record)  -- [SATAverage=1347] ) mark: histogram, score: 0.00 >,\n",
       " <Vis  (x: BIN(ACTMedian), y: COUNT(Record)  -- [SATAverage=991]  ) mark: histogram, score: 0.00 >,\n",
       " <Vis  (x: BIN(ACTMedian), y: COUNT(Record)  -- [SATAverage=931]  ) mark: histogram, score: 0.00 >,\n",
       " <Vis  (x: BIN(ACTMedian), y: COUNT(Record)  -- [SATAverage=1501] ) mark: histogram, score: 0.00 >,\n",
       " <Vis  (x: BIN(ACTMedian), y: COUNT(Record)  -- [SATAverage=1132] ) mark: histogram, score: 0.00 >,\n",
       " <Vis  (x: BIN(ACTMedian), y: COUNT(Record)  -- [SATAverage=1503] ) mark: histogram, score: 0.00 >,\n",
       " <Vis  (x: BIN(ACTMedian), y: COUNT(Record)  -- [SATAverage=1051] ) mark: histogram, score: 0.00 >,\n",
       " <Vis  (x: BIN(ACTMedian), y: COUNT(Record)  -- [SATAverage=1394] ) mark: histogram, score: 0.00 >,\n",
       " <Vis  (x: BIN(ACTMedian), y: COUNT(Record)  -- [SATAverage=1149] ) mark: histogram, score: 0.00 >,\n",
       " <Vis  (x: BIN(ACTMedian), y: COUNT(Record)  -- [SATAverage=1133] ) mark: histogram, score: 0.00 >,\n",
       " <Vis  (x: BIN(ACTMedian), y: COUNT(Record)  -- [SATAverage=1428] ) mark: histogram, score: 0.00 >,\n",
       " <Vis  (x: BIN(ACTMedian), y: COUNT(Record)  -- [SATAverage=1399] ) mark: histogram, score: 0.00 >,\n",
       " <Vis  (x: BIN(ACTMedian), y: COUNT(Record)  -- [SATAverage=1109] ) mark: histogram, score: 0.00 >,\n",
       " <Vis  (x: BIN(ACTMedian), y: COUNT(Record)  -- [SATAverage=1439] ) mark: histogram, score: 0.00 >,\n",
       " <Vis  (x: BIN(ACTMedian), y: COUNT(Record)  -- [SATAverage=1016] ) mark: histogram, score: 0.00 >,\n",
       " <Vis  (x: BIN(ACTMedian), y: COUNT(Record)  -- [SATAverage=1183] ) mark: histogram, score: 0.00 >,\n",
       " <Vis  (x: BIN(ACTMedian), y: COUNT(Record)  -- [SATAverage=1204] ) mark: histogram, score: 0.00 >,\n",
       " <Vis  (x: BIN(ACTMedian), y: COUNT(Record)  -- [SATAverage=780]  ) mark: histogram, score: 0.00 >,\n",
       " <Vis  (x: BIN(ACTMedian), y: COUNT(Record)  -- [SATAverage=1206] ) mark: histogram, score: 0.00 >,\n",
       " <Vis  (x: BIN(ACTMedian), y: COUNT(Record)  -- [SATAverage=993]  ) mark: histogram, score: 0.00 >,\n",
       " <Vis  (x: BIN(ACTMedian), y: COUNT(Record)  -- [SATAverage=927]  ) mark: histogram, score: 0.00 >,\n",
       " <Vis  (x: BIN(ACTMedian), y: COUNT(Record)  -- [SATAverage=1069] ) mark: histogram, score: 0.00 >,\n",
       " <Vis  (x: BIN(ACTMedian), y: COUNT(Record)  -- [SATAverage=1406] ) mark: histogram, score: 0.00 >,\n",
       " <Vis  (x: BIN(ACTMedian), y: COUNT(Record)  -- [SATAverage=1224] ) mark: histogram, score: 0.00 >,\n",
       " <Vis  (x: BIN(ACTMedian), y: COUNT(Record)  -- [SATAverage=1270] ) mark: histogram, score: 0.00 >,\n",
       " <Vis  (x: BIN(ACTMedian), y: COUNT(Record)  -- [SATAverage=1044] ) mark: histogram, score: 0.00 >,\n",
       " <Vis  (x: BIN(ACTMedian), y: COUNT(Record)  -- [SATAverage=1290] ) mark: histogram, score: 0.00 >,\n",
       " <Vis  (x: BIN(ACTMedian), y: COUNT(Record)  -- [SATAverage=983]  ) mark: histogram, score: 0.00 >,\n",
       " <Vis  (x: BIN(ACTMedian), y: COUNT(Record)  -- [SATAverage=1165] ) mark: histogram, score: 0.00 >,\n",
       " <Vis  (x: BIN(ACTMedian), y: COUNT(Record)  -- [SATAverage=851]  ) mark: histogram, score: 0.00 >,\n",
       " <Vis  (x: BIN(ACTMedian), y: COUNT(Record)  -- [SATAverage=1159] ) mark: histogram, score: 0.00 >,\n",
       " <Vis  (x: BIN(ACTMedian), y: COUNT(Record)  -- [SATAverage=666]  ) mark: histogram, score: 0.00 >,\n",
       " <Vis  (x: BIN(ACTMedian), y: COUNT(Record)  -- [SATAverage=1082] ) mark: histogram, score: 0.00 >,\n",
       " <Vis  (x: BIN(ACTMedian), y: COUNT(Record)  -- [SATAverage=864]  ) mark: histogram, score: 0.00 >,\n",
       " <Vis  (x: BIN(ACTMedian), y: COUNT(Record)  -- [SATAverage=1263] ) mark: histogram, score: 0.00 >,\n",
       " <Vis  (x: BIN(ACTMedian), y: COUNT(Record)  -- [SATAverage=1164] ) mark: histogram, score: 0.00 >,\n",
       " <Vis  (x: BIN(ACTMedian), y: COUNT(Record)  -- [SATAverage=1237] ) mark: histogram, score: 0.00 >,\n",
       " <Vis  (x: BIN(ACTMedian), y: COUNT(Record)  -- [SATAverage=1474] ) mark: histogram, score: 0.00 >,\n",
       " <Vis  (x: BIN(ACTMedian), y: COUNT(Record)  -- [SATAverage=1107] ) mark: histogram, score: 0.00 >,\n",
       " <Vis  (x: BIN(ACTMedian), y: COUNT(Record)  -- [SATAverage=1112] ) mark: histogram, score: 0.00 >,\n",
       " <Vis  (x: BIN(ACTMedian), y: COUNT(Record)  -- [SATAverage=925]  ) mark: histogram, score: 0.00 >,\n",
       " <Vis  (x: BIN(ACTMedian), y: COUNT(Record)  -- [SATAverage=1091] ) mark: histogram, score: 0.00 >,\n",
       " <Vis  (x: BIN(ACTMedian), y: COUNT(Record)  -- [SATAverage=1446] ) mark: histogram, score: 0.00 >,\n",
       " <Vis  (x: BIN(ACTMedian), y: COUNT(Record)  -- [SATAverage=975]  ) mark: histogram, score: 0.00 >,\n",
       " <Vis  (x: BIN(ACTMedian), y: COUNT(Record)  -- [SATAverage=965]  ) mark: histogram, score: 0.00 >,\n",
       " <Vis  (x: BIN(ACTMedian), y: COUNT(Record)  -- [SATAverage=949]  ) mark: histogram, score: 0.00 >,\n",
       " <Vis  (x: BIN(ACTMedian), y: COUNT(Record)  -- [SATAverage=877]  ) mark: histogram, score: 0.00 >,\n",
       " <Vis  (x: BIN(ACTMedian), y: COUNT(Record)  -- [SATAverage=1063] ) mark: histogram, score: 0.00 >,\n",
       " <Vis  (x: BIN(ACTMedian), y: COUNT(Record)  -- [SATAverage=1495] ) mark: histogram, score: 0.00 >,\n",
       " <Vis  (x: BIN(ACTMedian), y: COUNT(Record)  -- [SATAverage=1038] ) mark: histogram, score: 0.00 >,\n",
       " <Vis  (x: BIN(ACTMedian), y: COUNT(Record)  -- [SATAverage=913]  ) mark: histogram, score: 0.00 >,\n",
       " <Vis  (x: BIN(ACTMedian), y: COUNT(Record)  -- [SATAverage=1121] ) mark: histogram, score: 0.00 >,\n",
       " <Vis  (x: BIN(ACTMedian), y: COUNT(Record)  -- [SATAverage=1305] ) mark: histogram, score: 0.00 >,\n",
       " <Vis  (x: BIN(ACTMedian), y: COUNT(Record)  -- [SATAverage=1200] ) mark: histogram, score: 0.00 >,\n",
       " <Vis  (x: BIN(ACTMedian), y: COUNT(Record)  -- [SATAverage=1340] ) mark: histogram, score: 0.00 >,\n",
       " <Vis  (x: BIN(ACTMedian), y: COUNT(Record)  -- [SATAverage=1101] ) mark: histogram, score: 0.00 >,\n",
       " <Vis  (x: BIN(ACTMedian), y: COUNT(Record)  -- [SATAverage=1187] ) mark: histogram, score: 0.00 >,\n",
       " <Vis  (x: BIN(ACTMedian), y: COUNT(Record)  -- [SATAverage=1370] ) mark: histogram, score: 0.00 >,\n",
       " <Vis  (x: BIN(ACTMedian), y: COUNT(Record)  -- [SATAverage=1471] ) mark: histogram, score: 0.00 >,\n",
       " <Vis  (x: BIN(ACTMedian), y: COUNT(Record)  -- [SATAverage=912]  ) mark: histogram, score: 0.00 >,\n",
       " <Vis  (x: BIN(ACTMedian), y: COUNT(Record)  -- [SATAverage=1358] ) mark: histogram, score: 0.00 >,\n",
       " <Vis  (x: BIN(ACTMedian), y: COUNT(Record)  -- [SATAverage=1422] ) mark: histogram, score: 0.00 >,\n",
       " <Vis  (x: BIN(ACTMedian), y: COUNT(Record)  -- [SATAverage=899]  ) mark: histogram, score: 0.00 >,\n",
       " <Vis  (x: BIN(ACTMedian), y: COUNT(Record)  -- [SATAverage=894]  ) mark: histogram, score: 0.00 >,\n",
       " <Vis  (x: BIN(ACTMedian), y: COUNT(Record)  -- [SATAverage=1384] ) mark: histogram, score: 0.00 >,\n",
       " <Vis  (x: BIN(ACTMedian), y: COUNT(Record)  -- [SATAverage=907]  ) mark: histogram, score: 0.00 >,\n",
       " <Vis  (x: BIN(ACTMedian), y: COUNT(Record)  -- [SATAverage=874]  ) mark: histogram, score: 0.00 >,\n",
       " <Vis  (x: BIN(ACTMedian), y: COUNT(Record)  -- [SATAverage=919]  ) mark: histogram, score: 0.00 >,\n",
       " <Vis  (x: BIN(ACTMedian), y: COUNT(Record)  -- [SATAverage=915]  ) mark: histogram, score: 0.00 >,\n",
       " <Vis  (x: BIN(ACTMedian), y: COUNT(Record)  -- [SATAverage=1366] ) mark: histogram, score: 0.00 >,\n",
       " <Vis  (x: BIN(ACTMedian), y: COUNT(Record)  -- [SATAverage=1232] ) mark: histogram, score: 0.00 >,\n",
       " <Vis  (x: BIN(ACTMedian), y: COUNT(Record)  -- [SATAverage=1353] ) mark: histogram, score: 0.00 >,\n",
       " <Vis  (x: BIN(ACTMedian), y: COUNT(Record)  -- [SATAverage=1093] ) mark: histogram, score: 0.00 >,\n",
       " <Vis  (x: BIN(ACTMedian), y: COUNT(Record)  -- [SATAverage=1253] ) mark: histogram, score: 0.00 >,\n",
       " <Vis  (x: BIN(ACTMedian), y: COUNT(Record)  -- [SATAverage=1056] ) mark: histogram, score: 0.00 >,\n",
       " <Vis  (x: BIN(ACTMedian), y: COUNT(Record)  -- [SATAverage=1274] ) mark: histogram, score: 0.00 >,\n",
       " <Vis  (x: BIN(ACTMedian), y: COUNT(Record)  -- [SATAverage=1129] ) mark: histogram, score: 0.00 >,\n",
       " <Vis  (x: BIN(ACTMedian), y: COUNT(Record)  -- [SATAverage=1097] ) mark: histogram, score: 0.00 >,\n",
       " <Vis  (x: BIN(ACTMedian), y: COUNT(Record)  -- [SATAverage=1313] ) mark: histogram, score: 0.00 >,\n",
       " <Vis  (x: BIN(ACTMedian), y: COUNT(Record)  -- [SATAverage=1217] ) mark: histogram, score: 0.00 >,\n",
       " <Vis  (x: BIN(ACTMedian), y: COUNT(Record)  -- [SATAverage=777]  ) mark: histogram, score: 0.00 >,\n",
       " <Vis  (x: BIN(ACTMedian), y: COUNT(Record)  -- [SATAverage=1444] ) mark: histogram, score: 0.00 >,\n",
       " <Vis  (x: BIN(ACTMedian), y: COUNT(Record)  -- [SATAverage=849]  ) mark: histogram, score: 0.00 >,\n",
       " <Vis  (x: BIN(ACTMedian), y: COUNT(Record)  -- [SATAverage=1067] ) mark: histogram, score: 0.00 >,\n",
       " <Vis  (x: BIN(ACTMedian), y: COUNT(Record)  -- [SATAverage=826]  ) mark: histogram, score: 0.00 >,\n",
       " <Vis  (x: BIN(ACTMedian), y: COUNT(Record)  -- [SATAverage=723]  ) mark: histogram, score: 0.00 >,\n",
       " <Vis  (x: BIN(ACTMedian), y: COUNT(Record)  -- [SATAverage=941]  ) mark: histogram, score: 0.00 >,\n",
       " <Vis  (x: BIN(ACTMedian), y: COUNT(Record)  -- [SATAverage=961]  ) mark: histogram, score: 0.00 >,\n",
       " <Vis  (x: BIN(ACTMedian), y: COUNT(Record)  -- [SATAverage=902]  ) mark: histogram, score: 0.00 >,\n",
       " <Vis  (x: BIN(ACTMedian), y: COUNT(Record)  -- [SATAverage=1190] ) mark: histogram, score: 0.00 >,\n",
       " <Vis  (x: BIN(ACTMedian), y: COUNT(Record)  -- [SATAverage=1066] ) mark: histogram, score: 0.00 >,\n",
       " <Vis  (x: BIN(ACTMedian), y: COUNT(Record)  -- [SATAverage=859]  ) mark: histogram, score: 0.00 >,\n",
       " <Vis  (x: BIN(ACTMedian), y: COUNT(Record)  -- [SATAverage=1229] ) mark: histogram, score: 0.00 >,\n",
       " <Vis  (x: BIN(ACTMedian), y: COUNT(Record)  -- [SATAverage=878]  ) mark: histogram, score: 0.00 >,\n",
       " <Vis  (x: BIN(ACTMedian), y: COUNT(Record)  -- [SATAverage=853]  ) mark: histogram, score: 0.00 >,\n",
       " <Vis  (x: BIN(ACTMedian), y: COUNT(Record)  -- [SATAverage=749]  ) mark: histogram, score: 0.00 >,\n",
       " <Vis  (x: BIN(ACTMedian), y: COUNT(Record)  -- [SATAverage=1136] ) mark: histogram, score: 0.00 >,\n",
       " <Vis  (x: BIN(ACTMedian), y: COUNT(Record)  -- [SATAverage=889]  ) mark: histogram, score: 0.00 >,\n",
       " <Vis  (x: BIN(ACTMedian), y: COUNT(Record)  -- [SATAverage=1027] ) mark: histogram, score: 0.00 >,\n",
       " <Vis  (x: BIN(ACTMedian), y: COUNT(Record)  -- [SATAverage=1377] ) mark: histogram, score: 0.00 >,\n",
       " <Vis  (x: BIN(ACTMedian), y: COUNT(Record)  -- [SATAverage=1181] ) mark: histogram, score: 0.00 >,\n",
       " <Vis  (x: BIN(ACTMedian), y: COUNT(Record)  -- [SATAverage=1285] ) mark: histogram, score: 0.00 >,\n",
       " <Vis  (x: BIN(ACTMedian), y: COUNT(Record)  -- [SATAverage=1328] ) mark: histogram, score: 0.00 >,\n",
       " <Vis  (x: BIN(ACTMedian), y: COUNT(Record)  -- [SATAverage=1071] ) mark: histogram, score: 0.00 >,\n",
       " <Vis  (x: BIN(ACTMedian), y: COUNT(Record)  -- [SATAverage=1354] ) mark: histogram, score: 0.00 >,\n",
       " <Vis  (x: BIN(ACTMedian), y: COUNT(Record)  -- [SATAverage=836]  ) mark: histogram, score: 0.00 >,\n",
       " <Vis  (x: BIN(ACTMedian), y: COUNT(Record)  -- [SATAverage=1124] ) mark: histogram, score: 0.00 >,\n",
       " <Vis  (x: BIN(ACTMedian), y: COUNT(Record)  -- [SATAverage=1176] ) mark: histogram, score: 0.00 >,\n",
       " <Vis  (x: BIN(ACTMedian), y: COUNT(Record)  -- [SATAverage=1037] ) mark: histogram, score: 0.00 >,\n",
       " <Vis  (x: BIN(ACTMedian), y: COUNT(Record)  -- [SATAverage=1025] ) mark: histogram, score: 0.00 >,\n",
       " <Vis  (x: BIN(ACTMedian), y: COUNT(Record)  -- [SATAverage=1371] ) mark: histogram, score: 0.00 >,\n",
       " <Vis  (x: BIN(ACTMedian), y: COUNT(Record)  -- [SATAverage=1334] ) mark: histogram, score: 0.00 >,\n",
       " <Vis  (x: BIN(ACTMedian), y: COUNT(Record)  -- [SATAverage=1306] ) mark: histogram, score: 0.00 >,\n",
       " <Vis  (x: BIN(ACTMedian), y: COUNT(Record)  -- [SATAverage=1432] ) mark: histogram, score: 0.00 >,\n",
       " <Vis  (x: BIN(ACTMedian), y: COUNT(Record)  -- [SATAverage=948]  ) mark: histogram, score: 0.00 >,\n",
       " <Vis  (x: BIN(ACTMedian), y: COUNT(Record)  -- [SATAverage=960]  ) mark: histogram, score: 0.00 >,\n",
       " <Vis  (x: BIN(ACTMedian), y: COUNT(Record)  -- [SATAverage=1197] ) mark: histogram, score: 0.00 >,\n",
       " <Vis  (x: BIN(ACTMedian), y: COUNT(Record)  -- [SATAverage=1041] ) mark: histogram, score: 0.00 >,\n",
       " <Vis  (x: BIN(ACTMedian), y: COUNT(Record)  -- [SATAverage=1117] ) mark: histogram, score: 0.00 >,\n",
       " <Vis  (x: BIN(ACTMedian), y: COUNT(Record)  -- [SATAverage=1282] ) mark: histogram, score: 0.00 >,\n",
       " <Vis  (x: BIN(ACTMedian), y: COUNT(Record)  -- [SATAverage=944]  ) mark: histogram, score: 0.00 >,\n",
       " <Vis  (x: BIN(ACTMedian), y: COUNT(Record)  -- [SATAverage=1400] ) mark: histogram, score: 0.00 >,\n",
       " <Vis  (x: BIN(ACTMedian), y: COUNT(Record)  -- [SATAverage=933]  ) mark: histogram, score: 0.00 >,\n",
       " <Vis  (x: BIN(ACTMedian), y: COUNT(Record)  -- [SATAverage=959]  ) mark: histogram, score: 0.00 >,\n",
       " <Vis  (x: BIN(ACTMedian), y: COUNT(Record)  -- [SATAverage=1283] ) mark: histogram, score: 0.00 >,\n",
       " <Vis  (x: BIN(ACTMedian), y: COUNT(Record)  -- [SATAverage=1322] ) mark: histogram, score: 0.00 >,\n",
       " <Vis  (x: BIN(ACTMedian), y: COUNT(Record)  -- [SATAverage=1246] ) mark: histogram, score: 0.00 >,\n",
       " <Vis  (x: BIN(ACTMedian), y: COUNT(Record)  -- [SATAverage=861]  ) mark: histogram, score: 0.00 >,\n",
       " <Vis  (x: BIN(ACTMedian), y: COUNT(Record)  -- [SATAverage=1052] ) mark: histogram, score: 0.00 >,\n",
       " <Vis  (x: BIN(ACTMedian), y: COUNT(Record)  -- [SATAverage=942]  ) mark: histogram, score: 0.00 >,\n",
       " <Vis  (x: BIN(ACTMedian), y: COUNT(Record)  -- [SATAverage=1442] ) mark: histogram, score: 0.00 >,\n",
       " <Vis  (x: BIN(ACTMedian), y: COUNT(Record)  -- [SATAverage=1316] ) mark: histogram, score: 0.00 >,\n",
       " <Vis  (x: BIN(ACTMedian), y: COUNT(Record)  -- [SATAverage=1425] ) mark: histogram, score: 0.00 >,\n",
       " <Vis  (x: BIN(ACTMedian), y: COUNT(Record)  -- [SATAverage=1076] ) mark: histogram, score: 0.00 >,\n",
       " <Vis  (x: BIN(ACTMedian), y: COUNT(Record)  -- [SATAverage=1239] ) mark: histogram, score: 0.00 >,\n",
       " <Vis  (x: BIN(ACTMedian), y: COUNT(Record)  -- [SATAverage=916]  ) mark: histogram, score: 0.00 >,\n",
       " <Vis  (x: BIN(ACTMedian), y: COUNT(Record)  -- [SATAverage=873]  ) mark: histogram, score: 0.00 >,\n",
       " <Vis  (x: BIN(ACTMedian), y: COUNT(Record)  -- [SATAverage=1259] ) mark: histogram, score: 0.00 >,\n",
       " <Vis  (x: BIN(ACTMedian), y: COUNT(Record)  -- [SATAverage=1055] ) mark: histogram, score: 0.00 >,\n",
       " <Vis  (x: BIN(ACTMedian), y: COUNT(Record)  -- [SATAverage=938]  ) mark: histogram, score: 0.00 >,\n",
       " <Vis  (x: BIN(ACTMedian), y: COUNT(Record)  -- [SATAverage=789]  ) mark: histogram, score: 0.00 >,\n",
       " <Vis  (x: BIN(ACTMedian), y: COUNT(Record)  -- [SATAverage=854]  ) mark: histogram, score: 0.00 >,\n",
       " <Vis  (x: BIN(ACTMedian), y: COUNT(Record)  -- [SATAverage=1022] ) mark: histogram, score: 0.00 >,\n",
       " <Vis  (x: BIN(ACTMedian), y: COUNT(Record)  -- [SATAverage=716]  ) mark: histogram, score: 0.00 >,\n",
       " <Vis  (x: BIN(ACTMedian), y: COUNT(Record)  -- [SATAverage=760]  ) mark: histogram, score: 0.00 >,\n",
       " <Vis  (x: BIN(ACTMedian), y: COUNT(Record)  -- [SATAverage=1288] ) mark: histogram, score: 0.00 >,\n",
       " <Vis  (x: BIN(ACTMedian), y: COUNT(Record)  -- [SATAverage=1248] ) mark: histogram, score: 0.00 >,\n",
       " <Vis  (x: BIN(ACTMedian), y: COUNT(Record)  -- [SATAverage=1174] ) mark: histogram, score: 0.00 >,\n",
       " <Vis  (x: BIN(ACTMedian), y: COUNT(Record)  -- [SATAverage=1475] ) mark: histogram, score: 0.00 >,\n",
       " <Vis  (x: BIN(ACTMedian), y: COUNT(Record)  -- [SATAverage=1216] ) mark: histogram, score: 0.00 >,\n",
       " <Vis  (x: BIN(ACTMedian), y: COUNT(Record)  -- [SATAverage=953]  ) mark: histogram, score: 0.00 >,\n",
       " <Vis  (x: BIN(ACTMedian), y: COUNT(Record)  -- [SATAverage=775]  ) mark: histogram, score: 0.00 >,\n",
       " <Vis  (x: BIN(ACTMedian), y: COUNT(Record)  -- [SATAverage=1302] ) mark: histogram, score: 0.00 >,\n",
       " <Vis  (x: BIN(ACTMedian), y: COUNT(Record)  -- [SATAverage=832]  ) mark: histogram, score: 0.00 >,\n",
       " <Vis  (x: BIN(ACTMedian), y: COUNT(Record)  -- [SATAverage=994]  ) mark: histogram, score: 0.00 >,\n",
       " <Vis  (x: BIN(ACTMedian), y: COUNT(Record)  -- [SATAverage=1277] ) mark: histogram, score: 0.00 >,\n",
       " <Vis  (x: BIN(ACTMedian), y: COUNT(Record)  -- [SATAverage=1134] ) mark: histogram, score: 0.00 >,\n",
       " <Vis  (x: BIN(ACTMedian), y: COUNT(Record)  -- [SATAverage=1391] ) mark: histogram, score: 0.00 >,\n",
       " <Vis  (x: BIN(ACTMedian), y: COUNT(Record)  -- [SATAverage=883]  ) mark: histogram, score: 0.00 >,\n",
       " <Vis  (x: BIN(ACTMedian), y: COUNT(Record)  -- [SATAverage=900]  ) mark: histogram, score: 0.00 >,\n",
       " <Vis  (x: BIN(ACTMedian), y: COUNT(Record)  -- [SATAverage=868]  ) mark: histogram, score: 0.00 >,\n",
       " <Vis  (x: BIN(ACTMedian), y: COUNT(Record)  -- [SATAverage=1099] ) mark: histogram, score: 0.00 >,\n",
       " <Vis  (x: BIN(ACTMedian), y: COUNT(Record)  -- [SATAverage=879]  ) mark: histogram, score: 0.00 >,\n",
       " <Vis  (x: BIN(ACTMedian), y: COUNT(Record)  -- [SATAverage=837]  ) mark: histogram, score: 0.00 >,\n",
       " <Vis  (x: BIN(ACTMedian), y: COUNT(Record)  -- [SATAverage=1362] ) mark: histogram, score: 0.00 >,\n",
       " <Vis  (x: BIN(ACTMedian), y: COUNT(Record)  -- [SATAverage=811]  ) mark: histogram, score: 0.00 >,\n",
       " <Vis  (x: BIN(ACTMedian), y: COUNT(Record)  -- [SATAverage=750]  ) mark: histogram, score: 0.00 >,\n",
       " <Vis  (x: BIN(ACTMedian), y: COUNT(Record)  -- [SATAverage=1392] ) mark: histogram, score: 0.00 >,\n",
       " <Vis  (x: BIN(ACTMedian), y: COUNT(Record)  -- [SATAverage=1114] ) mark: histogram, score: 0.00 >,\n",
       " <Vis  (x: BIN(ACTMedian), y: COUNT(Record)  -- [SATAverage=1327] ) mark: histogram, score: 0.00 >,\n",
       " <Vis  (x: BIN(ACTMedian), y: COUNT(Record)  -- [SATAverage=905]  ) mark: histogram, score: 0.00 >,\n",
       " <Vis  (x: BIN(ACTMedian), y: COUNT(Record)  -- [SATAverage=971]  ) mark: histogram, score: 0.00 >,\n",
       " <Vis  (x: BIN(ACTMedian), y: COUNT(Record)  -- [SATAverage=1227] ) mark: histogram, score: 0.00 >,\n",
       " <Vis  (x: BIN(ACTMedian), y: COUNT(Record)  -- [SATAverage=1244] ) mark: histogram, score: 0.00 >,\n",
       " <Vis  (x: BIN(ACTMedian), y: COUNT(Record)  -- [SATAverage=1466] ) mark: histogram, score: 0.00 >,\n",
       " <Vis  (x: BIN(ACTMedian), y: COUNT(Record)  -- [SATAverage=1211] ) mark: histogram, score: 0.00 >,\n",
       " <Vis  (x: BIN(ACTMedian), y: COUNT(Record)  -- [SATAverage=966]  ) mark: histogram, score: 0.00 >,\n",
       " <Vis  (x: BIN(ACTMedian), y: COUNT(Record)  -- [SATAverage=1225] ) mark: histogram, score: 0.00 >]"
      ]
     },
     "execution_count": 6,
     "metadata": {},
     "output_type": "execute_result"
    }
   ],
   "source": [
    "from lux.vis.VisList import VisList\n",
    "VisList([\"SATAverage=?\",\"ACTMedian\"],df)"
   ]
  },
  {
   "cell_type": "code",
   "execution_count": null,
   "metadata": {},
   "outputs": [],
   "source": []
  }
 ],
 "metadata": {
  "kernelspec": {
   "display_name": "Python 3",
   "language": "python",
   "name": "python3"
  },
  "language_info": {
   "codemirror_mode": {
    "name": "ipython",
    "version": 3
   },
   "file_extension": ".py",
   "mimetype": "text/x-python",
   "name": "python",
   "nbconvert_exporter": "python",
   "pygments_lexer": "ipython3",
   "version": "3.8.3"
  }
 },
 "nbformat": 4,
 "nbformat_minor": 4
}
